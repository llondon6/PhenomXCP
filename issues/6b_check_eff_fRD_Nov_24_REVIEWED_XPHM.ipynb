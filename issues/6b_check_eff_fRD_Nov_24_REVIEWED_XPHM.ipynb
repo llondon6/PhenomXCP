{
 "cells": [
  {
   "cell_type": "markdown",
   "id": "01cfc37a",
   "metadata": {},
   "source": [
    "# Check Effective Ringdown Frequency Implementation\n",
    "\n",
    "* fix implementatin of HM coprecessing eff ringdown freqs by making sure that sign of || final spin is used to select whether pro or retrograde modes are used\n",
    "* make sure that the non-precessing final spin being used with PhenomXP(with settings to return PhenomX ) gives the correct limits and had the correct smoothness\n"
   ]
  },
  {
   "cell_type": "code",
   "execution_count": 1,
   "id": "755f7e96",
   "metadata": {},
   "outputs": [
    {
     "name": "stdout",
     "output_type": "stream",
     "text": [
      "(\u001b[0;36mpositive\u001b[0m)>> Applying custom matplotlib settings.\n",
      "(\u001b[0;36minit\u001b[0m)>> \u001b[0;33mWarm greetings from XCP\u001b[0m.\n",
      "(\u001b[0;36mxcp.core\u001b[0m)>> Catalog of calibration runs stored to \u001b[0;35m\"xcp.calibration_catalog\"\u001b[0m\n",
      "(\u001b[0;36mxcp.core\u001b[0m)>> Metadata dictionary for calibration runs stored to \u001b[0;35m\"xcp.metadata_dict\"\u001b[0m\n",
      "(\u001b[0;36mxcp.core\u001b[0m)>> Metadata dictionary for Ed's catalog paper stored to \u001b[0;35m\"xcp.catalog_paper_metadata\"\u001b[0m\n",
      "(\u001b[0;36mxcp.core\u001b[0m)>> According to the global config, the XCP package is configured to model the \u001b[0;35m[(2, 2), (3, 3)]\u001b[0m coprecessing moment multipole moment(s)\n"
     ]
    }
   ],
   "source": [
    "# Setup ipython environment\n",
    "%load_ext autoreload\n",
    "%autoreload 2\n",
    "%matplotlib inline\n",
    "from matplotlib.pyplot import *\n",
    "from numpy import *\n",
    "from positive import *\n",
    "from nrutils import scsearch, gwylm\n",
    "from glob import glob\n",
    "import xcp\n",
    "from xcp import determine_data_fitting_region,calibration_catalog,metadata_dict,template_amp_phase,advanced_gmvx_plot\n",
    "import lalsimulation as lalsim"
   ]
  },
  {
   "cell_type": "code",
   "execution_count": 2,
   "id": "d3403e06",
   "metadata": {},
   "outputs": [
    {
     "data": {
      "text/plain": [
       "\u001b[0;31mDocstring:\u001b[0m SimPhenomPNRafinal_prec(REAL8 m1_SI, REAL8 m2_SI, REAL8 chi1x, REAL8 chi1y, REAL8 chi1z, REAL8 chi2x, REAL8 chi2y, REAL8 chi2z, Dict lalParams) -> REAL8\n",
       "\u001b[0;31mType:\u001b[0m      builtin_function_or_method\n"
      ]
     },
     "metadata": {},
     "output_type": "display_data"
    }
   ],
   "source": [
    "?lalsim.SimPhenomPNRafinal_prec"
   ]
  },
  {
   "cell_type": "code",
   "execution_count": 3,
   "id": "9cce24a1",
   "metadata": {},
   "outputs": [],
   "source": [
    "#\n",
    "def PNRfRingEffaFinal( q, a1, theta_LS, fsflag=None ):\n",
    "    \n",
    "    # Import usefuls \n",
    "    from numpy import ndarray, array, arange, double\n",
    "    from positive.units import codef,codeh,codehf,physf\n",
    "    from positive import sYlm\n",
    "    import lalsimulation as lalsim\n",
    "    import lal\n",
    "    \n",
    "    #\n",
    "    m1,m2 = q2m1m2(float(q))\n",
    "    s1 = array( [a1*sin(theta_LS),0,a1*cos(theta_LS)] )\n",
    "    \n",
    "    #\n",
    "    Mtot = 100.0\n",
    "    M1 = m1 * Mtot/ ( m1 + m2 )\n",
    "    M2 = m2 * Mtot / ( m1 + m2 )\n",
    "    \n",
    "    #\n",
    "    lalparams = lal.CreateDict()\n",
    "    lalsim.SimInspiralWaveformParamsInsertPhenomXHMThresholdMband(lalparams, 0)\n",
    "    #lalsim.SimInspiralWaveformParamsInsertPhenomXReturnCoPrec(lalparams, 1)\n",
    "    #lalsim.SimInspiralWaveformParamsInsertPhenomXPNRUseTunedCoprec(lalparams,1)\n",
    "    #\n",
    "    distance_Mpc= 100.0\n",
    "    distance_SI    = distance_Mpc*1.0e6*lal.PC_SI\n",
    "    m1_SI = lal.MSUN_SI*M1\n",
    "    m2_SI = lal.MSUN_SI*M2\n",
    "    chi1x, chi1y, chi1z = s1\n",
    "    chi2x, chi2y, chi2z = 0.0,0.0,0.0\n",
    "    \n",
    "    #\n",
    "    # print(chi1x, chi1y, chi1z)\n",
    "    aFinal_prec   = lalsim.SimPhenomPNRafinal_prec( m1_SI, m2_SI, chi1x, chi1y, chi1z, chi2x, chi2y, chi2z, lalparams ) \n",
    "\n",
    "    #\n",
    "    # return { 'fRD':fRingEff, 'af':aFinal, 'window':window, 'fRDshift':fRINGEffShiftDividedByEmm, 'betaRD':betaRD} \n",
    "    return aFinal_prec\n"
   ]
  },
  {
   "cell_type": "code",
   "execution_count": 4,
   "id": "0bcf645f",
   "metadata": {},
   "outputs": [],
   "source": [
    "\n",
    "#\n",
    "eps = 0.001\n",
    "\n",
    "#\n",
    "q = 1.000\n",
    "a1 = 0.8\n",
    "theta_LS = linspace(0+eps,pi-eps,200)\n"
   ]
  },
  {
   "cell_type": "code",
   "execution_count": 5,
   "id": "e48a1b6e",
   "metadata": {},
   "outputs": [],
   "source": [
    "m1,m2 = q2m1m2(q)\n",
    "_,Xf1 = remnant(m1,m2,a1,0)\n",
    "_,Xf2 = remnant(m1,m2,-a1,0)"
   ]
  },
  {
   "cell_type": "code",
   "execution_count": 6,
   "id": "85dedce1",
   "metadata": {},
   "outputs": [
    {
     "data": {
      "text/plain": [
       "[<matplotlib.lines.Line2D at 0xa1a733be0>]"
      ]
     },
     "execution_count": 6,
     "metadata": {},
     "output_type": "execute_result"
    },
    {
     "data": {
      "image/png": "[encoded data removed]",
      "text/plain": [
       "<Figure size 432x288 with 1 Axes>"
      ]
     },
     "metadata": {
      "needs_background": "light"
     },
     "output_type": "display_data"
    }
   ],
   "source": [
    "\n",
    "\n",
    "# (fRingEff, aFinal_prec, afinal_nonprec, window, fRINGEffShiftDividedByEmm, betaRD )\n",
    "#data = array( [ PNRfRingEffaFinal( q, a1, th ) for th in theta_LS ] )\n",
    "\n",
    "#\n",
    "#(fRingEff, aFinal, aFinal_prec, aFinal_nonprec, window, fRINGEffShiftDividedByEmm, betaRD, betaRD2 ) = data.T\n",
    "\n",
    "aFinal  = array( [ PNRfRingEffaFinal( q, a1, th ) for th in theta_LS ] )\n",
    "# win  = array( [ PNRfRingEffaFinal( q, a1, th )[3] for th in theta_LS ] )\n",
    "\n",
    "# plot( theta_LS,aFinal )\n",
    "# plot( theta_LS,aFinal_test )\n",
    "\n",
    "plot( theta_LS*180/pi,aFinal )\n",
    "\n",
    "\n",
    "# #\n",
    "# figure( figsize=2*figaspect(0.618) )\n",
    "# plot( theta_LS, fRD, lw=2, label='PNRUseTunedCoprec=True', c='r'  )\n",
    "# xlabel(r'$\\theta_{\\mathrm{LS}}$')\n",
    "# ylabel(r'$f_{\\mathrm{RD}}^\\mathrm{Effective}$')\n",
    "# axvline( 120*pi/180, ls='--' )\n",
    "# axvline( 150*pi/180, ls='--',c='r' )\n",
    "# # axhline( )\n",
    "# legend()\n",
    "# # title('$q10a08$')\n",
    "\n",
    "# #\n",
    "# figure( figsize=2*figaspect(0.618) )\n",
    "# plot( theta_LS, af, lw=2, label='PNRUseTunedCoprec=True', c='b'  )\n",
    "# xlabel(r'$\\theta_{\\mathrm{LS}}$')\n",
    "# ylabel(r'$a_f$')\n",
    "# axvline( 120*pi/180, ls='--' )\n",
    "# axhline( Xf1, c='k', ls='--' )\n",
    "# axhline( Xf2, c='k', ls='--' )\n",
    "# legend()"
   ]
  },
  {
   "cell_type": "code",
   "execution_count": 7,
   "id": "388d31a8",
   "metadata": {},
   "outputs": [
    {
     "data": {
      "image/png": "[encoded data removed]",
      "text/plain": [
       "<Figure size 745.631x460.8 with 1 Axes>"
      ]
     },
     "metadata": {
      "needs_background": "light"
     },
     "output_type": "display_data"
    }
   ],
   "source": [
    "\n",
    "th = theta_LS*180/pi\n",
    "figure( figsize=1.6*figaspect(0.618) )\n",
    "\n",
    "#plot( th, aFinal, c='k', label='aFinal',lw=2 )\n",
    "plot( th, aFinal, label='aFinal_prec',ls='--',lw=2 )\n",
    "#plot( th, aFinal_nonprec, label='aFinal_nonprec',ls='--',lw=2 )\n",
    "legend()\n",
    "\n",
    "title( '$q=%f$, $a=%1.2f$ Master Version of XPHM (branch with final spin XLAL is )'%(q,a1) )\n",
    "xlabel( r'$\\theta_{\\mathrm{LS}}$' )\n",
    "ylabel(r'$\\chi_{\\mathrm{final}}$')\n",
    "\n",
    "#figure()\n",
    "#plot( th, cos(betaRD) )\n",
    "savefig('/Users/book/Desktop/phenomx_chi_final_a%i_q%f.png'%(a1*10,q))"
   ]
  },
  {
   "cell_type": "code",
   "execution_count": 8,
   "id": "104ed1ab",
   "metadata": {},
   "outputs": [
    {
     "data": {
      "text/plain": [
       "0.2181661564992912"
      ]
     },
     "execution_count": 8,
     "metadata": {},
     "output_type": "execute_result"
    }
   ],
   "source": [
    "12.5*pi/180"
   ]
  },
  {
   "cell_type": "code",
   "execution_count": 9,
   "id": "c5ec3c17",
   "metadata": {},
   "outputs": [
    {
     "data": {
      "text/plain": [
       "0.5235987755982988"
      ]
     },
     "execution_count": 9,
     "metadata": {},
     "output_type": "execute_result"
    }
   ],
   "source": [
    "(180-150)*pi/180"
   ]
  },
  {
   "cell_type": "code",
   "execution_count": null,
   "id": "fb755607",
   "metadata": {},
   "outputs": [],
   "source": []
  },
  {
   "cell_type": "code",
   "execution_count": null,
   "id": "5035efc1",
   "metadata": {},
   "outputs": [],
   "source": []
  }
 ],
 "metadata": {
  "kernelspec": {
   "display_name": "hack-phenomx3",
   "language": "python",
   "name": "hack-phenomx3"
  },
  "language_info": {
   "codemirror_mode": {
    "name": "ipython",
    "version": 3
   },
   "file_extension": ".py",
   "mimetype": "text/x-python",
   "name": "python",
   "nbconvert_exporter": "python",
   "pygments_lexer": "ipython3",
   "version": "3.6.9"
  }
 },
 "nbformat": 4,
 "nbformat_minor": 5
}
