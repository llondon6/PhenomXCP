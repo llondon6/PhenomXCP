{
 "cells": [
  {
   "cell_type": "code",
   "execution_count": 1,
   "metadata": {},
   "outputs": [
    {
     "name": "stdout",
     "output_type": "stream",
     "text": [
      "(\u001b[0;36mpositive\u001b[0m)>> Applying custom matplotlib settings.\n",
      "(\u001b[0;36minit\u001b[0m)>> \u001b[0;33mWarm greetings from XCP\u001b[0m.\n",
      "(\u001b[0;36mxcp.core\u001b[0m)>> Catalog of calibration runs stored to \u001b[0;35m\"xcp.xcp_catalog\"\u001b[0m\n",
      "(\u001b[0;36mxcp.core\u001b[0m)>> Metadata dictionary for Ed's catalog paper stored to \u001b[0;35m\"xcp.catalog_paper_metadata\"\u001b[0m\n"
     ]
    }
   ],
   "source": [
    "# Setup ipython environment\n",
    "%load_ext autoreload\n",
    "%autoreload 2\n",
    "%matplotlib inline\n",
    "# Setup the notebook's environment\n",
    "import lalsimulation as lalsim\n",
    "import lal\n",
    "import numpy as np\n",
    "from matplotlib.pyplot import *\n",
    "from positive import *\n",
    "from nrutils import lalphenom\n",
    "from positive.units import *\n",
    "from nrutils import scsearch,gwylm\n",
    "from xcp import *"
   ]
  },
  {
   "cell_type": "code",
   "execution_count": 2,
   "metadata": {},
   "outputs": [
    {
     "name": "stdout",
     "output_type": "stream",
     "text": [
      "(\u001b[0;36mscsearch\u001b[0m)>> Found \u001b[4mkeyword\u001b[0m (=q8a08t120dP2_r03_T_96_360) keyword.\n",
      "(\u001b[0;36mscsearch\u001b[0m)>> Found \u001b[4mnotkeyword\u001b[0m (=('80_Points', 'ASJmodified', '.0.1.0')) keyword.\n",
      "(\u001b[0;36mscsearch\u001b[0m)>> Found \u001b[4munique\u001b[0m (=True) keyword.\n",
      "(\u001b[0;36mscsearch\u001b[0m)>> Found \u001b[4mverbose\u001b[0m (=True) keyword.\n",
      "(\u001b[0;36mscsearch\u001b[0m)>> List of keywords or string keyword found: \u001b[0;36mALL scentry objects matching will be passed.\u001b[0m To pass ANY entries matching the keywords, input the keywords using an iterable of not of type list.\n",
      "(\u001b[0;36mscsearch\u001b[0m)>> ## Found \u001b[1m1\u001b[0m\u001b[92m unique\u001b[0m simulations:\n",
      "(\u001b[0;36mscsearch\u001b[0m)>> [0001][\u001b[92mhogshead\u001b[0m] \u001b[0;36mq8precessing\u001b[0m: 1chi0.80-p-q8.00\t(\u001b[0;36mq8a08t120dP2_r03_T_96_360_OLD\u001b[0m)\n",
      "\n",
      "(1.1485347585510402e-06, 1.1496084548900528e-06)\n",
      "\u001b[1m(\u001b[0;33mromline!\u001b[0m)\u001b[0m>> N is \u001b[31m2\u001b[0m, but it must be less than or equal to 3. We have set N=3. This course is often desired in cases where N=2 is naively given.\n",
      "\u001b[1m(\u001b[0;33m__calc_radiated_linear_momentum__!\u001b[0m)\u001b[0m>> The current objects max ell value is \u001b[31m2\u001b[0m, but we recommend a value of at least \u001b[0;34m4\u001b[0m for accurate determination of radiated linear momentum.\n",
      "\u001b[1m(\u001b[0;33m__calc_radiated_linear_momentum__!\u001b[0m)\u001b[0m>> The current objects max ell value is \u001b[31m2\u001b[0m, but we recommend a value of at least \u001b[0;34m4\u001b[0m for accurate determination of radiated linear momentum.\n",
      "(\u001b[0;36m__rotate_frame_at_all_times__\u001b[0m)>> Note that metadata at the scentry level (i.e. this.__scentry__) have not been rotated, but this.Sf, this.R1 and others have been rotated. This includes radiated and remnant quantities.\n",
      "\u001b[1m(\u001b[0;33m__calc_radiated_linear_momentum__!\u001b[0m)\u001b[0m>> The current objects max ell value is \u001b[31m2\u001b[0m, but we recommend a value of at least \u001b[0;34m4\u001b[0m for accurate determination of radiated linear momentum.\n",
      "\u001b[1m(\u001b[0;33m__calc_coprecessing_frame__!\u001b[0m)\u001b[0m>> calculating the co-precessing frame in a non-initial J frame is prone to errors. please consider placing your gwylm object in a frame where J is initially along z-hat via gwylmo.__calc_initial_j_frame__()\n",
      "\u001b[1m(\u001b[0;33m__calc_radiated_linear_momentum__!\u001b[0m)\u001b[0m>> The current objects max ell value is \u001b[31m2\u001b[0m, but we recommend a value of at least \u001b[0;34m4\u001b[0m for accurate determination of radiated linear momentum.\n",
      "(\u001b[0;36mcalc_coprecessing_angles\u001b[0m)>> The domain values seem unevenly split between positive and negative values. Thus, we will interpret the input as corresponding to \u001b[92mTIME DOMAIN\u001b[0m data.\n",
      "(\u001b[0;36m__rotate_frame_at_all_times__\u001b[0m)>> Note that metadata at the scentry level (i.e. this.__scentry__) have not been rotated, but this.Sf, this.R1 and others have been rotated. This includes radiated and remnant quantities.\n",
      "(\u001b[0;36m__rotate_frame_at_all_times__\u001b[0m)>> Note that metadata at the scentry level (i.e. this.__scentry__) have not been rotated, but this.Sf, this.R1 and others have been rotated. This includes radiated and remnant quantities.\n",
      "\u001b[1m(\u001b[0;33m__calc_coprecessing_frame__!\u001b[0m)\u001b[0m>> calculating the co-precessing frame in a non-initial J frame is prone to errors. please consider placing your gwylm object in a frame where J is initially along z-hat via gwylmo.__calc_initial_j_frame__()\n",
      "\u001b[1m(\u001b[0;33m__calc_radiated_linear_momentum__!\u001b[0m)\u001b[0m>> The current objects max ell value is \u001b[31m2\u001b[0m, but we recommend a value of at least \u001b[0;34m4\u001b[0m for accurate determination of radiated linear momentum.\n",
      "\u001b[1m(\u001b[0;33m__init__!\u001b[0m)\u001b[0m>> This function works best if the gwylm object input is in a J-aligned frame, but \u001b[1m\u001b[31mtd-cp-psi4\u001b[0m\u001b[0m frame found\n",
      "(\u001b[0;36mcalc_coprecessing_angles\u001b[0m)>> The domain values seem unevenly split between positive and negative values. Thus, we will interpret the input as corresponding to \u001b[92mTIME DOMAIN\u001b[0m data.\n",
      "(\u001b[0;36m__rotate_frame_at_all_times__\u001b[0m)>> Note that metadata at the scentry level (i.e. this.__scentry__) have not been rotated, but this.Sf, this.R1 and others have been rotated. This includes radiated and remnant quantities.\n"
     ]
    }
   ],
   "source": [
    "# Locate simulation                                                                                                                                                                                         \n",
    "simlist = 'q8a08t120dP2_r03_T_96_360'\n",
    "\n",
    "aa = scsearch( keyword=simlist, notkeyword=('80_Points','ASJmodified','.0.1.0'), verbose=True, unique=True )\n",
    "\n",
    "\n",
    "# Calculate time domain phase derivative                                                                                                                                                                    \n",
    "data = {}\n",
    "for a in aa:\n",
    "\n",
    "    # Load simulation                                                                                                                                                                                       \n",
    "    y = gwylm( a, lmax=2, verbose=False, clean=True, load_dynamics=False )\n",
    "\n",
    "    # Put into J-of-t frame                                                                                                                                                                                 \n",
    "    yJ = y.__calc_j_of_t_frame__(enforce_initial_J_consistency=True)\n",
    "#     yJ = y.__calc_final_j_frame__()\n",
    "\n",
    "    # Put into co-precessing frame, symmetrise and clean                                                                                                                                                    \n",
    "    ycptemp1 = yJ.__calc_coprecessing_frame__( transform_domain='td', kind='psi4' )\n",
    "    ycptemp2 = ycptemp1.__symmetrize__()\n",
    "    \n",
    "    for lm in ycptemp2.lm:\n",
    "        l,m = lm\n",
    "        if (l,abs(m)) != (2,2):\n",
    "            for kind in ycptemp2.lm[lm]:\n",
    "                wfarr = ycptemp2[lm][kind].wfarr\n",
    "                wfarr[:,1:] *= 1e-10\n",
    "                ycptemp2[lm][kind].setfields( wfarr )\n",
    "\n",
    "    alpha  = yJ.radiation_axis_info.radiation_axis['td_alpha']\n",
    "    beta   = yJ.radiation_axis_info.radiation_axis['td_beta']\n",
    "    gamma  = yJ.radiation_axis_info.radiation_axis['td_gamma']\n",
    "    angles = ( alpha,beta,gamma )\n",
    "    yJsym  = ycptemp2.__rotate_frame_at_all_times__( angles )\n",
    "\n",
    "    # Calculate precession angles                                                                                                                                                                           \n",
    "    ycp = yJsym.__calc_coprecessing_frame__( transform_domain='td', kind='psi4' )"
   ]
  },
  {
   "cell_type": "code",
   "execution_count": null,
   "metadata": {},
   "outputs": [],
   "source": []
  }
 ],
 "metadata": {
  "kernelspec": {
   "display_name": "LIGO+Python2.7",
   "language": "python",
   "name": "ligo-py2"
  },
  "language_info": {
   "codemirror_mode": {
    "name": "ipython",
    "version": 2
   },
   "file_extension": ".py",
   "mimetype": "text/x-python",
   "name": "python",
   "nbconvert_exporter": "python",
   "pygments_lexer": "ipython2",
   "version": "2.7.17"
  }
 },
 "nbformat": 4,
 "nbformat_minor": 4
}
