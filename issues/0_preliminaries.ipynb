{
 "cells": [
  {
   "cell_type": "markdown",
   "metadata": {},
   "source": [
    "# Preliminary of hack-phenomx env and inital development tasks\n",
    "* Compare PhenomXHM modes to NR data\n",
    "  * Load NR data\n",
    "  * Generate model waveform \n",
    "  * Compare by plotting FD waveforms (different modes)\n",
    "* Apply test modifation to PhenomXHM ringdown frequency and compare to NR and default PhenomXHM"
   ]
  },
  {
   "cell_type": "code",
   "execution_count": 1,
   "metadata": {},
   "outputs": [
    {
     "name": "stdout",
     "output_type": "stream",
     "text": [
      "(\u001b[0;36mpositive\u001b[0m)>> Applying custom matplotlib settings.\n"
     ]
    }
   ],
   "source": [
    "# Setup the notebook's environment\n",
    "import lalsimulation as lalsim\n",
    "import lal\n",
    "import numpy as np\n",
    "from matplotlib.pyplot import *\n",
    "from positive import *\n",
    "from nrutils import lalphenom\n",
    "from positive.units import *\n",
    "from nrutils import scsearch,gwylm"
   ]
  },
  {
   "cell_type": "code",
   "execution_count": 2,
   "metadata": {},
   "outputs": [
    {
     "name": "stdout",
     "output_type": "stream",
     "text": [
      "(\u001b[0;36mnotebook\u001b[0m)>> We are getting our LALSimulation from:\n",
      "\u001b[92m/Users/book/opt/anaconda2/envs/hack-phenomx/lib/python2.7/site-packages/lalsimulation\u001b[0m\n"
     ]
    }
   ],
   "source": [
    "# Let the user know where lalsimulation lives\n",
    "alert('We are getting our LALSimulation from:\\n%s'%green(lalsim.__path__[0]))"
   ]
  },
  {
   "cell_type": "markdown",
   "metadata": {},
   "source": [
    "## Load reference NR data"
   ]
  },
  {
   "cell_type": "code",
   "execution_count": 3,
   "metadata": {},
   "outputs": [
    {
     "name": "stdout",
     "output_type": "stream",
     "text": [
      "(\u001b[0;36mscsearch\u001b[0m)>> Found \u001b[4mkeyword\u001b[0m (=q8a08t150) keyword.\n",
      "(\u001b[0;36mscsearch\u001b[0m)>> Found \u001b[4mverbose\u001b[0m (=True) keyword.\n",
      "(\u001b[0;36mscsearch\u001b[0m)>> List of keywords or string keyword found: \u001b[0;36mALL scentry objects matching will be passed.\u001b[0m To pass ANY entries matching the keywords, input the keywords using an iterable of not of type list.\n",
      "(\u001b[0;36mscsearch\u001b[0m)>> ## Found \u001b[1m2\u001b[0m\u001b[0;35m possibly degenerate\u001b[0m simulations:\n",
      "(\u001b[0;36mscsearch\u001b[0m)>> [0001][\u001b[92mhogshead\u001b[0m] \u001b[0;36mq8precessing\u001b[0m: 1chi0.80-p-q8.00\t(\u001b[0;36mq8a08t150dP2_T_120_480\u001b[0m)\n",
      "(\u001b[0;36mscsearch\u001b[0m)>> [0002][\u001b[92mhogshead\u001b[0m] \u001b[0;36mq8precessing\u001b[0m: 1chi0.80-p-q8.00\t(\u001b[0;36mq8a08t150dP2_T_96_360\u001b[0m)\n",
      "\n"
     ]
    }
   ],
   "source": [
    "# Find a catalog entry of interest using a keyword search\n",
    "a = scsearch(keyword='q8a08t150',verbose=True)[0]"
   ]
  },
  {
   "cell_type": "code",
   "execution_count": 7,
   "metadata": {},
   "outputs": [],
   "source": [
    "# # Load the realted NR waveform\n",
    "# y = {}\n",
    "# lpm_space = [ (2,2),(2,1),(2,0)] # ,(3,3),(3,2),(4,4)\n",
    "# lm_space = list(set(lpm_space + [ (l,-m) for l,m in lpm_space  ]))\n",
    "# y['raw'] = gwylm(a,lm=lm_space,dt=0.5,clean=True,verbose=False,pad=2000, enforce_m_relative_sign_convention=not False)"
   ]
  },
  {
   "cell_type": "code",
   "execution_count": null,
   "metadata": {},
   "outputs": [],
   "source": [
    "# # Generate waveform in L-frame (this rotates all multipoles and vector metadata)\n",
    "# # y['j'] = y['raw'].__calc_j_of_t_frame__()\n",
    "# y['j'] = y['raw'].__calc_initial_j_frame__().__symmetrize__()"
   ]
  },
  {
   "cell_type": "code",
   "execution_count": null,
   "metadata": {},
   "outputs": [],
   "source": [
    "# # Generate waveform in L-frame (this rotates all multipoles and vector metadata)\n",
    "# y['lal'] = y['j'].__calc_initial_l_frame__()"
   ]
  },
  {
   "cell_type": "code",
   "execution_count": null,
   "metadata": {},
   "outputs": [],
   "source": [
    "# y['cp'] = y['j'].__calc_coprecessing_frame__(transform_domain='td',kind='psi4')"
   ]
  },
  {
   "cell_type": "markdown",
   "metadata": {},
   "source": [
    "## Compute model waveform for comparison"
   ]
  },
  {
   "cell_type": "code",
   "execution_count": 12,
   "metadata": {},
   "outputs": [],
   "source": [
    "\n",
    "def PolarizationsFD(approximant, modeList, threshold, m1, m2, s1, s2, delta_f, phiRef,nu0 = 0):\n",
    "      \n",
    "    lalparams = lal.CreateDict()\n",
    "    \n",
    "    #\n",
    "    output_modes = {}\n",
    "    \n",
    "    #\n",
    "    ModeArray = lalsim.SimInspiralCreateModeArray()\n",
    "    for mode in modeList:\n",
    "        \n",
    "        #\n",
    "        l,m = mode\n",
    "        \n",
    "        #\n",
    "        lalsim.SimInspiralModeArrayActivateMode(ModeArray, l,m)\n",
    "        lalsim.SimInspiralWaveformParamsInsertModeArray(lalparams, ModeArray)\n",
    "\n",
    "        #\n",
    "        lalsim.SimInspiralWaveformParamsInsertPhenomXHMThresholdMband(lalparams, threshold)\n",
    "        lalsim.SimInspiralWaveformParamsInsertPhenomXCPFlag( lalparams, 1 )\n",
    "        lalsim.SimInspiralWaveformParamsInsertPhenomXCPfRing22Deviation( lalparams, nu0 )\n",
    "\n",
    "        #\n",
    "        f_min       = 10.0\n",
    "        f_max       = 2048.0\n",
    "        Omega       = 0.\n",
    "        inclination = 1.3232 # Chosen so that it doesn't correxpond to a spherical hamonic root\n",
    "        distance_Mpc= 100.0\n",
    "        distance    = distance_Mpc*1.0e6*lal.PC_SI\n",
    "\n",
    "        Hp, Hc = lalsim.SimInspiralChooseFDWaveform(m1=lal.MSUN_SI*m1,\n",
    "                                                m2=lal.MSUN_SI*m2, \n",
    "                                                S1x=s1[0], S1y=s1[1], S1z=s1[2],\n",
    "                                                S2x=s2[0], S2y=s2[1], S2z=s2[2],\n",
    "                                                distance=distance, \n",
    "                                                inclination=inclination, \n",
    "                                                LALpars=lalparams,\n",
    "                                                phiRef=phiRef, \n",
    "                                                f_ref=f_min,\n",
    "                                                deltaF=delta_f,\n",
    "                                                f_min=f_min,\n",
    "                                                f_max=f_max,\n",
    "                                                longAscNodes=Omega,\n",
    "                                                eccentricity=0.0,\n",
    "                                                meanPerAno=0.0,\n",
    "                                                approximant=approximant) \n",
    "\n",
    "        #\n",
    "        freqs = np.arange(len(Hp.data.data)) * delta_f\n",
    "\n",
    "        #\n",
    "        s = -2\n",
    "        spehrical_harmonic = sYlm(s,l,m,inclination,0)\n",
    "        hp = Hp.data.data / spehrical_harmonic\n",
    "        hc = Hc.data.data / spehrical_harmonic\n",
    "        \n",
    "        #\n",
    "        Mtot = m1+m2\n",
    "        hp = codehf(hp,Mtot,distance_Mpc)\n",
    "        hc = codehf(hc,Mtot,distance_Mpc)\n",
    "        f  = codef(freqs,Mtot) \n",
    "        \n",
    "        #\n",
    "        output_modes[l,m] = (hp,hc,f)\n",
    "    \n",
    "    #\n",
    "    return output_modes"
   ]
  },
  {
   "cell_type": "code",
   "execution_count": 13,
   "metadata": {},
   "outputs": [],
   "source": [
    "\n",
    "l,m = 2,2\n",
    "modeList = [ [l,m] ]\n",
    "threshold = 0\n",
    "M = 100\n",
    "\n",
    "# m1 = y['lal'].m1 * M / ( y['lal'].m1 + y['lal'].m2 )\n",
    "# m2 = y['lal'].m2 * M / ( y['lal'].m1 + y['lal'].m2 )\n",
    "# s1 = [0,0,y['lal'].X1[-1]] # Only use z-component becuase PhenomXHM (no precession) is the approx\n",
    "# s2 = [0,0,y['lal'].X2[-1]] # Only use z-component becuase PhenomXHM (no precession) is the approx\n",
    "\n",
    "m1 = a.m1 * M / ( a.m1 + a.m2 )\n",
    "m2 = a.m2 * M / ( a.m1 + a.m2 )\n",
    "s1 = [0,0,a.X1[-1]] # Only use z-component becuase PhenomXHM (no precession) is the approx\n",
    "s2 = [0,0,a.X2[-1]] # Only use z-component becuase PhenomXHM (no precession) is the approx\n",
    "\n",
    "delta_f = 0.125\n",
    "phiRef = 3.4332\n",
    "\n",
    "#\n",
    "moments_dict = PolarizationsFD(lalsim.IMRPhenomXHM, modeList, threshold, m1, m2, s1, s2, delta_f, phiRef)\n",
    "\n",
    "#\n",
    "hp,hc,f = moments_dict[l,m]\n",
    "h = hp + 1j*hc"
   ]
  },
  {
   "cell_type": "code",
   "execution_count": 14,
   "metadata": {},
   "outputs": [
    {
     "data": {
      "text/plain": [
       "<matplotlib.legend.Legend at 0xb229504d0>"
      ]
     },
     "execution_count": 14,
     "metadata": {},
     "output_type": "execute_result"
    },
    {
     "data": {
      "image/png": "[encoded data removed]",
      "text/plain": [
       "<Figure size 932.039x576 with 1 Axes>"
      ]
     },
     "metadata": {
      "needs_background": "light"
     },
     "output_type": "display_data"
    },
    {
     "data": {
      "image/png": "[encoded data removed]",
      "text/plain": [
       "<Figure size 932.039x576 with 1 Axes>"
      ]
     },
     "metadata": {
      "needs_background": "light"
     },
     "output_type": "display_data"
    }
   ],
   "source": [
    "# Compare single mode generated above to NR\n",
    "figure( figsize=2*figaspect(0.618) )\n",
    "\n",
    "# plot( y['lal'].f,y['cp'][l,m]['strain'].fd_amp,label='nr-cp-frame' )\n",
    "# # plot( y['lal'].f,y['lal'][l,m]['strain'].fd_amp,label='nr-lal-frame' )\n",
    "\n",
    "plot( f, abs(h),label='PhenomXHM' )\n",
    "xscale('log')\n",
    "yscale('log')\n",
    "xlim(0.002*m/2,0.22)\n",
    "ylim(1e-5,1e2)\n",
    "legend(loc=1)\n",
    "\n",
    "f0,f1 = 0.02,0.1\n",
    "def calc_dphi(f,h):\n",
    "    phi = np.unwrap(np.angle(h))\n",
    "    dphi = spline_diff(f,phi)\n",
    "    dphi -= np.mean(dphi[ (f>f0) & (f<f1) ])\n",
    "    return dphi\n",
    "\n",
    "# Compare single mode generated above to NR\n",
    "figure( figsize=2*figaspect(0.618) )\n",
    "\n",
    "# plot( y['lal'].f,calc_dphi(y['lal'].f,y['cp'][l,m]['strain'].fd_y),label='nr-cp-frame' )\n",
    "# # plot( y['lal'].f,calc_dphi(y['lal'].f,y['lal'][l,m]['strain'].fd_y),label='nr-lal-frame' )\n",
    "\n",
    "plot( f, calc_dphi(f,h),label='PhenomXHM' )\n",
    "xscale('log')\n",
    "# yscale('log')\n",
    "xlim(0.01,0.2)\n",
    "mask = (f>f0) & (f<f1)\n",
    "ylim( lim(calc_dphi(f,h)[mask],dilate=.1) )\n",
    "# ylim(1e-5,1e2)\n",
    "legend(loc=1)\n"
   ]
  },
  {
   "cell_type": "code",
   "execution_count": null,
   "metadata": {},
   "outputs": [],
   "source": [
    "# frd = 0.079572\n",
    "frd = 0.074572"
   ]
  },
  {
   "cell_type": "code",
   "execution_count": 15,
   "metadata": {},
   "outputs": [
    {
     "name": "stdout",
     "output_type": "stream",
     "text": [
      "0.005\n"
     ]
    }
   ],
   "source": [
    "print 0.079572-0.074572"
   ]
  },
  {
   "cell_type": "code",
   "execution_count": null,
   "metadata": {},
   "outputs": [],
   "source": [
    "# frd = 0.056376"
   ]
  }
 ],
 "metadata": {
  "kernelspec": {
   "display_name": "hack-phenomx",
   "language": "python",
   "name": "hack-phenomx"
  },
  "language_info": {
   "codemirror_mode": {
    "name": "ipython",
    "version": 2
   },
   "file_extension": ".py",
   "mimetype": "text/x-python",
   "name": "python",
   "nbconvert_exporter": "python",
   "pygments_lexer": "ipython2",
   "version": "2.7.18"
  }
 },
 "nbformat": 4,
 "nbformat_minor": 4
}
