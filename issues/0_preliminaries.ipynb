{
 "cells": [
  {
   "cell_type": "markdown",
   "metadata": {},
   "source": [
    "# Preliminary of hack-phenomx env and inital development tasks\n",
    "* Compare PhenomXHM modes to NR data\n",
    "  * Load NR data\n",
    "  * Generate model waveform \n",
    "  * Compare by plotting FD waveforms (different modes)\n",
    "* Apply test modifation to PhenomXHM ringdown frequency and compare to NR and default PhenomXHM"
   ]
  },
  {
   "cell_type": "code",
   "execution_count": 1,
   "metadata": {},
   "outputs": [
    {
     "name": "stdout",
     "output_type": "stream",
     "text": [
      "(\u001b[0;36mpositive\u001b[0m)>> Applying custom matplotlib settings.\n",
      "(\u001b[0;36minit\u001b[0m)>> \u001b[0;33mWarm greetings from XCP\u001b[0m.\n",
      "(\u001b[0;36mxcp.core\u001b[0m)>> Catalog of calibration runs stored to \u001b[0;35m\"xcp.calibration_catalog\"\u001b[0m\n",
      "(\u001b[0;36mxcp.core\u001b[0m)>> Metadata dictionary for Ed's catalog paper stored to \u001b[0;35m\"xcp.catalog_paper_metadata\"\u001b[0m\n"
     ]
    }
   ],
   "source": [
    "# Setup ipython environment\n",
    "%load_ext autoreload\n",
    "%autoreload 2\n",
    "%matplotlib inline\n",
    "# Setup the notebook's environment\n",
    "import lalsimulation as lalsim\n",
    "import lal\n",
    "import numpy as np\n",
    "from numpy import *\n",
    "from matplotlib.pyplot import *\n",
    "from positive import *\n",
    "from nrutils import lalphenom\n",
    "from positive.units import *\n",
    "from nrutils import scsearch,gwylm\n",
    "from xcp import *\n",
    "import warnings"
   ]
  },
  {
   "cell_type": "code",
   "execution_count": 2,
   "metadata": {},
   "outputs": [
    {
     "name": "stdout",
     "output_type": "stream",
     "text": [
      "(\u001b[0;36mnotebook\u001b[0m)>> We are getting our LALSimulation from:\n",
      "\u001b[92m/Users/book/opt/anaconda2/envs/hack-phenomx3/lib/python3.6/site-packages/lalsimulation\u001b[0m\n"
     ]
    }
   ],
   "source": [
    "# Let the user know where lalsimulation lives\n",
    "alert('We are getting our LALSimulation from:\\n%s'%green(lalsim.__path__[0]))"
   ]
  },
  {
   "cell_type": "code",
   "execution_count": 3,
   "metadata": {},
   "outputs": [
    {
     "ename": "AssertionError",
     "evalue": "\u001b[1m(\u001b[31merror!!\u001b[0m)\u001b[0m>> This notebook is made for the o773b-ll branch of Jonathan Thompsons lalsuite fork. You must have checkout and installed lalsuite from this branch before running this notebook. ",
     "output_type": "error",
     "traceback": [
      "\u001b[0;31m--------------------------------------------\u001b[0m",
      "\u001b[0;31mAssertionError\u001b[0mTraceback (most recent call last)",
      "\u001b[0;32m<ipython-input-3-8cfd46ab7ebd>\u001b[0m in \u001b[0;36m<module>\u001b[0;34m\u001b[0m\n\u001b[0;32m----> 1\u001b[0;31m \u001b[0merror\u001b[0m\u001b[0;34m(\u001b[0m\u001b[0;34m'This notebook is made for the o773b-ll branch of Jonathan Thompsons lalsuite fork. You must have checkout and installed lalsuite from this branch before running this notebook. '\u001b[0m\u001b[0;34m)\u001b[0m\u001b[0;34m\u001b[0m\u001b[0;34m\u001b[0m\u001b[0m\n\u001b[0m",
      "\u001b[0;32m~/JOKI/Libs/KOALA/positive_dev/positive/api.py\u001b[0m in \u001b[0;36merror\u001b[0;34m(msg, _fname)\u001b[0m\n\u001b[1;32m    218\u001b[0m         \u001b[0m_msg\u001b[0m \u001b[0;34m=\u001b[0m \u001b[0mbold\u001b[0m\u001b[0;34m(\u001b[0m\u001b[0;34m'('\u001b[0m\u001b[0;34m+\u001b[0m\u001b[0mred\u001b[0m\u001b[0;34m(\u001b[0m\u001b[0m_fname\u001b[0m\u001b[0;34m+\u001b[0m\u001b[0;34m'!!'\u001b[0m\u001b[0;34m)\u001b[0m\u001b[0;34m+\u001b[0m\u001b[0;34m')'\u001b[0m\u001b[0;34m)\u001b[0m\u001b[0;34m+\u001b[0m\u001b[0;34m'>> '\u001b[0m\u001b[0;34m+\u001b[0m\u001b[0mmsg\u001b[0m\u001b[0;34m\u001b[0m\u001b[0;34m\u001b[0m\u001b[0m\n\u001b[1;32m    219\u001b[0m     \u001b[0;31m# Treat all as raise AssertionErrors\u001b[0m\u001b[0;34m\u001b[0m\u001b[0;34m\u001b[0m\u001b[0;34m\u001b[0m\u001b[0m\n\u001b[0;32m--> 220\u001b[0;31m     \u001b[0;32mraise\u001b[0m \u001b[0mAssertionError\u001b[0m\u001b[0;34m(\u001b[0m \u001b[0m_msg\u001b[0m \u001b[0;34m)\u001b[0m\u001b[0;34m\u001b[0m\u001b[0;34m\u001b[0m\u001b[0m\n\u001b[0m\u001b[1;32m    221\u001b[0m \u001b[0;34m\u001b[0m\u001b[0m\n\u001b[1;32m    222\u001b[0m \u001b[0;34m\u001b[0m\u001b[0m\n",
      "\u001b[0;31mAssertionError\u001b[0m: \u001b[1m(\u001b[31merror!!\u001b[0m)\u001b[0m>> This notebook is made for the o773b-ll branch of Jonathan Thompsons lalsuite fork. You must have checkout and installed lalsuite from this branch before running this notebook. "
     ]
    }
   ],
   "source": [
    "# error('This notebook is made for the o773b-ll branch of Jonathan Thompsons lalsuite fork. You must have checkout and installed lalsuite from this branch before running this notebook. ')"
   ]
  },
  {
   "cell_type": "markdown",
   "metadata": {},
   "source": [
    "## Load reference NR data"
   ]
  },
  {
   "cell_type": "code",
   "execution_count": null,
   "metadata": {},
   "outputs": [],
   "source": [
    "# Find a catalog entry of interest using a keyword search\n",
    "# a = scsearch(keyword='q1a02t120',verbose=True)[0]\n",
    "a = scsearch(keyword='q1a02t60_T_96_384',verbose=True)[0]\n",
    "# a = scsearch(keyword='q8a08t150dP2_T_120_480',verbose=True)[0]"
   ]
  },
  {
   "cell_type": "code",
   "execution_count": null,
   "metadata": {},
   "outputs": [],
   "source": [
    "# Load the realted NR waveform\n",
    "y = {}\n",
    "lpm_space = [ (2,2),(2,1),(2,0)] # ,(3,3),(3,2),(4,4)\n",
    "lm_space = list(set(lpm_space + [ (l,-m) for l,m in lpm_space  ]))\n",
    "y['raw'] = gwylm(a,lm=lm_space,dt=0.5,clean=True,verbose=False,pad=2000, enforce_m_relative_sign_convention=not False)"
   ]
  },
  {
   "cell_type": "code",
   "execution_count": null,
   "metadata": {},
   "outputs": [],
   "source": [
    "# Generate waveform in L-frame (this rotates all multipoles and vector metadata)\n",
    "# y['j'] = y['raw'].__calc_j_of_t_frame__()\n",
    "y['j'] = y['raw'].__calc_initial_j_frame__()"
   ]
  },
  {
   "cell_type": "code",
   "execution_count": null,
   "metadata": {},
   "outputs": [],
   "source": [
    "# Generate waveform in L-frame (this rotates all multipoles and vector metadata)\n",
    "y['lal'] = y['j'].__calc_initial_l_frame__()"
   ]
  },
  {
   "cell_type": "code",
   "execution_count": null,
   "metadata": {},
   "outputs": [],
   "source": [
    "y['cp'] = y['j'].__calc_coprecessing_frame__(transform_domain='td',kind='psi4')"
   ]
  },
  {
   "cell_type": "code",
   "execution_count": null,
   "metadata": {},
   "outputs": [],
   "source": [
    "y['cp-sym'] = y['cp'].__symmetrize__(zparity=True)"
   ]
  },
  {
   "cell_type": "code",
   "execution_count": null,
   "metadata": {},
   "outputs": [],
   "source": [
    "y['cp'][2,2]['psi4'].plot()"
   ]
  },
  {
   "cell_type": "markdown",
   "metadata": {},
   "source": [
    "## Compute model waveform for comparison"
   ]
  },
  {
   "cell_type": "code",
   "execution_count": null,
   "metadata": {},
   "outputs": [],
   "source": [
    "\n",
    "def PolarizationsFD(approximant, modeList, m1, m2, s1, s2, delta_f, phiRef,nu0 = 0,pflag=501, ReturnCoPrec=1):\n",
    "      \n",
    "    lalparams = lal.CreateDict()\n",
    "    \n",
    "    #\n",
    "    output_modes = {}\n",
    "    \n",
    "    #\n",
    "    ModeArray = lalsim.SimInspiralCreateModeArray()\n",
    "    for mode in modeList:\n",
    "        \n",
    "        #\n",
    "        l,m = mode\n",
    "        \n",
    "        #\n",
    "        lalsim.SimInspiralModeArrayActivateMode(ModeArray, l,m)\n",
    "        lalsim.SimInspiralWaveformParamsInsertModeArray(lalparams, ModeArray)\n",
    "\n",
    "        #\n",
    "        lalsim.SimInspiralWaveformParamsInsertPhenomXHMThresholdMband(lalparams, 0)\n",
    "\n",
    "        #\n",
    "        lalsim.SimInspiralWaveformParamsInsertPhenomXReturnCoPrec(lalparams, ReturnCoPrec)\n",
    "        \n",
    "        #\n",
    "        if pflag:\n",
    "            lalsim.SimInspiralWaveformParamsInsertPhenomXPrecVersion( lalparams, pflag )\n",
    "\n",
    "        #\n",
    "        f_min       = 10.0\n",
    "        f_max       = 2048.0\n",
    "        Omega       = 0.\n",
    "        inclination = 0 # Chosen so that it doesn't correxpond to a spherical hamonic root\n",
    "        distance_Mpc= 100.0\n",
    "        distance    = distance_Mpc*1.0e6*lal.PC_SI\n",
    "\n",
    "        Hp, Hc = lalsim.SimInspiralChooseFDWaveform(m1=lal.MSUN_SI*m1,\n",
    "                                                m2=lal.MSUN_SI*m2, \n",
    "                                                S1x=s1[0], S1y=s1[1], S1z=s1[2],\n",
    "                                                S2x=s2[0], S2y=s2[1], S2z=s2[2],\n",
    "                                                distance=distance, \n",
    "                                                inclination=inclination, \n",
    "                                                LALpars=lalparams,\n",
    "                                                phiRef=phiRef, \n",
    "                                                f_ref=f_min,\n",
    "                                                deltaF=delta_f,\n",
    "                                                f_min=f_min,\n",
    "                                                f_max=f_max,\n",
    "                                                longAscNodes=Omega,\n",
    "                                                eccentricity=0.0,\n",
    "                                                meanPerAno=0.0,\n",
    "                                                approximant=approximant) \n",
    "\n",
    "        #\n",
    "        freqs = np.arange(len(Hp.data.data)) * delta_f\n",
    "        hp = Hp.data.data\n",
    "        hc = Hc.data.data\n",
    "        \n",
    "        if not ( approximant in (lalsim.IMRPhenomXP,lalsim.IMRPhenomXPHM) ):\n",
    "\n",
    "            #\n",
    "            s = -2\n",
    "            spherical_harmonic = sYlm(s,l,m,inclination,phiRef)\n",
    "            hp /= spherical_harmonic\n",
    "            hc /= spherical_harmonic\n",
    "        \n",
    "        #\n",
    "        Mtot = m1+m2\n",
    "        hp = codehf(hp,Mtot,distance_Mpc)\n",
    "        hc = codehf(hc,Mtot,distance_Mpc)\n",
    "        f  = codef(freqs,Mtot) \n",
    "        \n",
    "        #\n",
    "        output_modes[l,m] = (hp,hc,f)\n",
    "    \n",
    "    #\n",
    "    return output_modes"
   ]
  },
  {
   "cell_type": "code",
   "execution_count": null,
   "metadata": {},
   "outputs": [],
   "source": [
    "\n",
    "l,m = 2,2\n",
    "modeList = [ [l,m] ]\n",
    "pflag = 500\n",
    "M = 100\n",
    "\n",
    "# m1 = y['lal'].m1 * M / ( y['lal'].m1 + y['lal'].m2 )\n",
    "# m2 = y['lal'].m2 * M / ( y['lal'].m1 + y['lal'].m2 )\n",
    "# s1 = [0,0,y['lal'].X1[-1]] # Only use z-component becuase PhenomXHM (no precession) is the approx\n",
    "# s2 = [0,0,y['lal'].X2[-1]] # Only use z-component becuase PhenomXHM (no precession) is the approx\n",
    "\n",
    "m1 = a.m1 * M / ( a.m1 + a.m2 )\n",
    "m2 = a.m2 * M / ( a.m1 + a.m2 )\n",
    "nonprec_s1 = [0,0,y['lal'].X1[-1]] # Only use z-component becuase PhenomXHM (no precession) is the approx\n",
    "nonprec_s2 = [0,0,y['lal'].X2[-1]] # Only use z-component becuase PhenomXHM (no precession) is the approx\n",
    "s1 = y['lal'].X1 #\n",
    "s2 = y['lal'].X2 # \n",
    "\n",
    "delta_f = 0.125\n",
    "phiRef = 0\n",
    "\n",
    "#\n",
    "h     = {}\n",
    "ls    = {}\n",
    "lw    = {}\n",
    "alpha = {}\n",
    "\n",
    "\n",
    "#\n",
    "key = 'XAS'\n",
    "moments_dict_a = PolarizationsFD(lalsim.IMRPhenomXAS, modeList, m1, m2, nonprec_s1, nonprec_s2, delta_f, phiRef, pflag=0, ReturnCoPrec=1)\n",
    "hp,hc,f    = moments_dict_a[l,m]\n",
    "h[key]     = hp + 1j*hc\n",
    "ls[key]    = '-'\n",
    "lw[key]    = 1\n",
    "alpha[key] = 0.3\n",
    "\n",
    "#\n",
    "key = 'XP-CP-Sz-Only'\n",
    "moments_dict_b = PolarizationsFD(lalsim.IMRPhenomXP, modeList, m1, m2, nonprec_s1, nonprec_s2, delta_f, phiRef, pflag=0, ReturnCoPrec=1)\n",
    "hp,hc,f    = moments_dict_b[l,m]\n",
    "h[key]     = hp + 1j*hc\n",
    "ls[key]    = ':'\n",
    "lw[key]    = 4\n",
    "alpha[key] = 1\n",
    "\n",
    "#\n",
    "key = 'XP-CP'\n",
    "moments_dict_1 = PolarizationsFD(lalsim.IMRPhenomXP, modeList, m1, m2, s1, s2, delta_f, phiRef, pflag=0, ReturnCoPrec=1)\n",
    "hp,hc,f    = moments_dict_1[l,m]\n",
    "h[key]     = hp + 1j*hc\n",
    "ls[key]    = '-'\n",
    "lw[key]    = 1\n",
    "alpha[key] = 1\n",
    "\n",
    "#\n",
    "key = 'XP-CP-501'\n",
    "moments_dict_1 = PolarizationsFD(lalsim.IMRPhenomXP, modeList, m1, m2, s1, s2, delta_f, phiRef, pflag=501, ReturnCoPrec=1)\n",
    "hp,hc,f    = moments_dict_1[l,m]\n",
    "h[key]     = hp + 1j*hc\n",
    "ls[key]    = '-'\n",
    "lw[key]    = 1\n",
    "alpha[key] = 1\n",
    "\n",
    "# #\n",
    "# key = 'XP-CP-502'\n",
    "# moments_dict_2 = PolarizationsFD(lalsim.IMRPhenomXP, modeList, m1, m2, s1, s2, delta_f, phiRef, pflag=502, ReturnCoPrec=1)\n",
    "# hp,hc,f    = moments_dict_2[l,m]\n",
    "# h[key]     = hp + 1j*hc\n",
    "# ls[key]    = '-'\n",
    "# lw[key]    = 1\n",
    "# alpha[key] = 1"
   ]
  },
  {
   "cell_type": "code",
   "execution_count": null,
   "metadata": {},
   "outputs": [],
   "source": [
    "# Compare single mode generated above to NR\n",
    "\n",
    "#\n",
    "figure( figsize=6*figaspect(0.618*2) )\n",
    "\n",
    "\n",
    "# --- #\n",
    "a1=subplot(2,1,1)\n",
    "# --- #\n",
    "\n",
    "\n",
    "# plot( y['lal'].f,y['cp'][l,m]['strain'].fd_amp,label='nr-cp-frame',lw=lw,ls='--' )\n",
    "plot( y['lal'].f,y['cp-sym'][l,m]['strain'].fd_amp,label='nr-cp-sym-frame',lw=6,ls='-',color='k',alpha=0.2 )\n",
    "# plot( y['lal'].f,y['lal'][l,m]['strain'].fd_amp,label='nr-lal-frame',lw=lw )\n",
    "\n",
    "#\n",
    "for key in h:\n",
    "    plot( f, abs(h[key]),label=key,lw=lw[key],ls=ls[key],alpha=alpha[key] )\n",
    "    \n",
    "# plot( f, abs(h1),label='PhenomXP-with-wRDEff',lw=lw, color='r' )\n",
    "# plot( f, abs(h2),label='PhenomXP-With-SxSySz',lw=lw )\n",
    "# plot( f, abs(ha),label='PhenomXAS',lw=1, color='k', alpha=0.16, ls='-' )\n",
    "# plot( f, abs(hb),label='PhenomXP-With-Sz',lw=4, color='r', alpha=0.36, ls=':' )\n",
    "\n",
    "xscale('log')\n",
    "yscale('log')\n",
    "xlim(1.5*y['cp'].wstart/(2*3.141592659),0.12)\n",
    "\n",
    "mask = (y['lal'].f>min(xlim())) & (y['lal'].f<max(xlim()))\n",
    "ylim( lim(y['cp-sym'][l,m]['strain'].fd_amp[mask], dilate=1.1, dilate_with_multiply=True) )\n",
    "\n",
    "legend()\n",
    "xlabel('$f M$')\n",
    "ylabel(r'$|h_{%i%i}|$'%(l,m))\n",
    "title(y['lal'].simname)\n",
    "\n",
    "\n",
    "# --- #\n",
    "subplot(2,1,2,sharex=a1)\n",
    "# --- #\n",
    "\n",
    "#\n",
    "f0,f1 = 0.02,0.1\n",
    "def calc_dphi(f,h,use_smooth=False):\n",
    "    phi = np.unwrap(np.angle(h))\n",
    "    dphi = spline_diff(f,phi)\n",
    "    dphi -= np.mean(dphi[ (f>f0) & (f<f1) ])\n",
    "    return smooth(dphi,width=20).answer if use_smooth else dphi\n",
    "\n",
    "\n",
    "# plot( y['lal'].f,calc_dphi(y['lal'].f,y['cp'][l,m]['strain'].fd_y,use_smooth=True),label='nr-cp-frame',lw=lw,ls='--' )\n",
    "plot( y['lal'].f,calc_dphi(y['lal'].f,y['cp-sym'][l,m]['strain'].fd_y,use_smooth=True),label='nr-cp-sym-frame',lw=6,ls='-',color='k',alpha=0.2 )\n",
    "# plot( y['lal'].f,calc_dphi(y['lal'].f,y['lal'][l,m]['strain'].fd_y),label='nr-lal-frame',lw=lw )\n",
    "\n",
    "#\n",
    "for key in h:\n",
    "    plot( f, calc_dphi(f,h[key]),label=key,lw=lw[key],ls=ls[key],alpha=alpha[key] )\n",
    "    \n",
    "# pi = 3.14159265359\n",
    "# plot( f, calc_dphi(f,h1),label='PhenomXP-with-wRDEff',lw=lw, color='r' )\n",
    "# plot( f, calc_dphi(f,h2),label='PhenomXP-With-SxSySz',lw=lw )\n",
    "# plot( f, calc_dphi(f,ha),label='PhenomXAS',lw=1, color='k', alpha=0.16, ls='-' )\n",
    "# plot( f, calc_dphi(f,hb),label='PhenomXP-With-Sz',lw=4, color='r', alpha=0.36, ls=':' )\n",
    "\n",
    "xscale('log')\n",
    "mask = (f>f0) & (f<f1)\n",
    "ylim( lim(calc_dphi(f,h[key])[mask],dilate=.1) )\n",
    "legend()\n",
    "xlabel('$f M$')\n",
    "ylabel(r'$\\partial_{f}\\;{\\phi_{%i%i}}$'%(l,m))\n",
    "title(y['lal'].simname)\n",
    "\n",
    "\n",
    "# --- #\n",
    "savefig('/Users/book/Desktop/0_preliminaries_check_%s.png'%y['lal'].simname)\n",
    "# --- #\n"
   ]
  },
  {
   "cell_type": "code",
   "execution_count": null,
   "metadata": {},
   "outputs": [],
   "source": []
  }
 ],
 "metadata": {
  "kernelspec": {
   "display_name": "hack-phenomx3",
   "language": "python",
   "name": "hack-phenomx3"
  },
  "language_info": {
   "codemirror_mode": {
    "name": "ipython",
    "version": 3
   },
   "file_extension": ".py",
   "mimetype": "text/x-python",
   "name": "python",
   "nbconvert_exporter": "python",
   "pygments_lexer": "ipython3",
   "version": "3.6.9"
  }
 },
 "nbformat": 4,
 "nbformat_minor": 4
}
