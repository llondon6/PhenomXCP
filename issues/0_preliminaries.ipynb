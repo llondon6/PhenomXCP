{
 "cells": [
  {
   "cell_type": "markdown",
   "metadata": {},
   "source": [
    "# Preliminary of hack-phenomx env and inital development tasks\n",
    "* Compare PhenomXHM modes to NR data\n",
    "  * Load NR data\n",
    "  * Generate model waveform \n",
    "  * Compare by plotting FD waveforms (different modes)\n",
    "* Apply test modifation to PhenomXHM ringdown frequency and compare to NR and default PhenomXHM"
   ]
  },
  {
   "cell_type": "code",
   "execution_count": 37,
   "metadata": {},
   "outputs": [],
   "source": [
    "# Setup the notebook's environment\n",
    "import lalsimulation as lalsim\n",
    "import lal\n",
    "import numpy as np\n",
    "from matplotlib.pyplot import *\n",
    "from positive import *\n",
    "from nrutils import lalphenom\n",
    "from positive.units import *\n",
    "from nrutils import scsearch,gwylm"
   ]
  },
  {
   "cell_type": "code",
   "execution_count": 2,
   "metadata": {},
   "outputs": [
    {
     "name": "stdout",
     "output_type": "stream",
     "text": [
      "(\u001b[0;36mnotebook\u001b[0m)>> We are getting our LALSimulation from:\n",
      "\u001b[92m/Users/book/opt/anaconda2/envs/hack-phenomx/lib/python2.7/site-packages/lalsimulation\u001b[0m\n"
     ]
    }
   ],
   "source": [
    "# Let the user know where lalsimulation lives\n",
    "alert('We are getting our LALSimulation from:\\n%s'%green(lalsim.__path__[0]))"
   ]
  },
  {
   "cell_type": "markdown",
   "metadata": {},
   "source": [
    "## Load reference NR data"
   ]
  },
  {
   "cell_type": "code",
   "execution_count": 39,
   "metadata": {},
   "outputs": [
    {
     "name": "stdout",
     "output_type": "stream",
     "text": [
      "(\u001b[0;36mscsearch\u001b[0m)>> Found \u001b[4mkeyword\u001b[0m (=q8a08t120) keyword.\n",
      "(\u001b[0;36mscsearch\u001b[0m)>> Found \u001b[4mverbose\u001b[0m (=True) keyword.\n",
      "(\u001b[0;36mscsearch\u001b[0m)>> List of keywords or string keyword found: \u001b[0;36mALL scentry objects matching will be passed.\u001b[0m To pass ANY entries matching the keywords, input the keywords using an iterable of not of type list.\n",
      "(\u001b[0;36mscsearch\u001b[0m)>> ## Found \u001b[1m1\u001b[0m\u001b[0;35m possibly degenerate\u001b[0m simulations:\n",
      "(\u001b[0;36mscsearch\u001b[0m)>> [0001][\u001b[92mhogshead\u001b[0m] \u001b[0;36mq8precessing\u001b[0m: 1chi0.80-p-q8.00\t(\u001b[0;36mq8a08t120dP2_r03_T_96_360\u001b[0m)\n",
      "\n"
     ]
    }
   ],
   "source": [
    "# Find a catalog entry of interest using a keyword search\n",
    "a = scsearch(keyword='q8a08t120',verbose=True)[0]"
   ]
  },
  {
   "cell_type": "code",
   "execution_count": 41,
   "metadata": {},
   "outputs": [
    {
     "name": "stdout",
     "output_type": "stream",
     "text": [
      "(\u001b[0;36mgwylm\u001b[0m)>> Found \u001b[4mclean\u001b[0m (=True) keyword.\n",
      "(\u001b[0;36mgwylm\u001b[0m)>> Found \u001b[4mdt\u001b[0m (=0.5) keyword.\n",
      "(\u001b[0;36mgwylm\u001b[0m)>> Found \u001b[4menforce_m_relative_sign_convention\u001b[0m (=True) keyword.\n",
      "(\u001b[0;36mgwylm\u001b[0m)>> Found \u001b[4mlm\u001b[0m (=[(2, 2), (2, 1), (3, 3), (3, 2), (4, 4)]) keyword.\n",
      "(\u001b[0;36mgwylm\u001b[0m)>> Found \u001b[4mload_dynamics\u001b[0m (=True) keyword.\n",
      "(\u001b[0;36mgwylm\u001b[0m)>> Found \u001b[4mscentry_obj\u001b[0m (=<nrutils.core.nrsc.scentry instance at 0xb2599abe0>) keyword.\n",
      "(\u001b[0;36mgwylm\u001b[0m)>> Found \u001b[4mverbose\u001b[0m (=True) keyword.\n",
      "(\u001b[0;36m__init__\u001b[0m)>> Using default M_RELATIVE_SIGN_CONVENTION of 1\n",
      "(\u001b[0;36mgwylm\u001b[0m)>> The (\u001b[0;35mextraction_parameter\u001b[0m,\u001b[92mlevel\u001b[0m) is (\u001b[0;35m5\u001b[0m,\u001b[92m7\u001b[0m), which differs from the config values of (5,5). You have either manually input the non-config values, or the handler has set them by looking at the contents of the simulation directory. \n",
      "(\u001b[0;36m__make_lmlist__\u001b[0m)>> The following spherical multipoles will be loaded:\u001b[0;36m[(2, 2), (2, 1), (3, 3), (3, 2), (4, 4)]\u001b[0m\n",
      "(\u001b[0;36mload\u001b[0m)>> Using the \u001b[0;36mdefault\u001b[0m extraction_parameter of 5\n",
      "(\u001b[0;36mload\u001b[0m)>> Loading: \u001b[0;36mpsi3col.r5.l7.l2.m2.gz\u001b[0m\n",
      "\u001b[1m(\u001b[0;33mstraighten_wfarr!\u001b[0m)\u001b[0m>> \u001b[31mThe time series has been found to be non-monotonic. We will sort the data to enforce monotinicity.\u001b[0m\n",
      "\u001b[1m(\u001b[0;33mstraighten_wfarr!\u001b[0m)\u001b[0m>> \u001b[31mThe waveform time series is now monotonic.\u001b[0m\n",
      "\u001b[1m(\u001b[0;33mstraighten_wfarr!\u001b[0m)\u001b[0m>> Repeated time values were found in the array. Offending rows will be removed.\n",
      "(\u001b[0;36mload\u001b[0m)>> Imposing a default padding of 3 to the data.\n",
      "(\u001b[0;36mpad_wfarr\u001b[0m)>> The shape was (5096, 3). Now the shape is (5099, 3).\n",
      "(\u001b[0;36mload\u001b[0m)>> Using the \u001b[0;36mdefault\u001b[0m extraction_parameter of 5\n",
      "(\u001b[0;36mload\u001b[0m)>> Loading: \u001b[0;36mpsi3col.r5.l7.l2.m1.gz\u001b[0m\n",
      "\u001b[1m(\u001b[0;33mstraighten_wfarr!\u001b[0m)\u001b[0m>> \u001b[31mThe time series has been found to be non-monotonic. We will sort the data to enforce monotinicity.\u001b[0m\n",
      "\u001b[1m(\u001b[0;33mstraighten_wfarr!\u001b[0m)\u001b[0m>> \u001b[31mThe waveform time series is now monotonic.\u001b[0m\n",
      "\u001b[1m(\u001b[0;33mstraighten_wfarr!\u001b[0m)\u001b[0m>> Repeated time values were found in the array. Offending rows will be removed.\n",
      "(\u001b[0;36mload\u001b[0m)>> Imposing a default padding of 3 to the data.\n",
      "(\u001b[0;36mpad_wfarr\u001b[0m)>> The shape was (5096, 3). Now the shape is (5099, 3).\n",
      "(\u001b[0;36mload\u001b[0m)>> Using the \u001b[0;36mdefault\u001b[0m extraction_parameter of 5\n",
      "(\u001b[0;36mload\u001b[0m)>> Loading: \u001b[0;36mpsi3col.r5.l7.l3.m3.gz\u001b[0m\n",
      "\u001b[1m(\u001b[0;33mstraighten_wfarr!\u001b[0m)\u001b[0m>> \u001b[31mThe time series has been found to be non-monotonic. We will sort the data to enforce monotinicity.\u001b[0m\n",
      "\u001b[1m(\u001b[0;33mstraighten_wfarr!\u001b[0m)\u001b[0m>> \u001b[31mThe waveform time series is now monotonic.\u001b[0m\n",
      "\u001b[1m(\u001b[0;33mstraighten_wfarr!\u001b[0m)\u001b[0m>> Repeated time values were found in the array. Offending rows will be removed.\n",
      "(\u001b[0;36mload\u001b[0m)>> Imposing a default padding of 3 to the data.\n",
      "(\u001b[0;36mpad_wfarr\u001b[0m)>> The shape was (5096, 3). Now the shape is (5099, 3).\n",
      "(\u001b[0;36mload\u001b[0m)>> Using the \u001b[0;36mdefault\u001b[0m extraction_parameter of 5\n",
      "(\u001b[0;36mload\u001b[0m)>> Loading: \u001b[0;36mpsi3col.r5.l7.l3.m2.gz\u001b[0m\n",
      "\u001b[1m(\u001b[0;33mstraighten_wfarr!\u001b[0m)\u001b[0m>> \u001b[31mThe time series has been found to be non-monotonic. We will sort the data to enforce monotinicity.\u001b[0m\n",
      "\u001b[1m(\u001b[0;33mstraighten_wfarr!\u001b[0m)\u001b[0m>> \u001b[31mThe waveform time series is now monotonic.\u001b[0m\n",
      "\u001b[1m(\u001b[0;33mstraighten_wfarr!\u001b[0m)\u001b[0m>> Repeated time values were found in the array. Offending rows will be removed.\n",
      "(\u001b[0;36mload\u001b[0m)>> Imposing a default padding of 3 to the data.\n",
      "(\u001b[0;36mpad_wfarr\u001b[0m)>> The shape was (5096, 3). Now the shape is (5099, 3).\n",
      "(\u001b[0;36mload\u001b[0m)>> Using the \u001b[0;36mdefault\u001b[0m extraction_parameter of 5\n",
      "(\u001b[0;36mload\u001b[0m)>> Loading: \u001b[0;36mpsi3col.r5.l7.l4.m4.gz\u001b[0m\n",
      "\u001b[1m(\u001b[0;33mstraighten_wfarr!\u001b[0m)\u001b[0m>> \u001b[31mThe time series has been found to be non-monotonic. We will sort the data to enforce monotinicity.\u001b[0m\n",
      "\u001b[1m(\u001b[0;33mstraighten_wfarr!\u001b[0m)\u001b[0m>> \u001b[31mThe waveform time series is now monotonic.\u001b[0m\n",
      "\u001b[1m(\u001b[0;33mstraighten_wfarr!\u001b[0m)\u001b[0m>> Repeated time values were found in the array. Offending rows will be removed.\n",
      "(\u001b[0;36mload\u001b[0m)>> Imposing a default padding of 3 to the data.\n",
      "(\u001b[0;36mpad_wfarr\u001b[0m)>> The shape was (5096, 3). Now the shape is (5099, 3).\n",
      "\u001b[1m(\u001b[0;33mromline!\u001b[0m)\u001b[0m>> N is \u001b[31m2\u001b[0m, but it must be less than or equal to 3. We have set N=3. This course is often desired in cases where N=2 is naively given.\n",
      "(\u001b[0;36mgwylm\u001b[0m)>> Storing w22 from a \u001b[1m\u001b[0;35mPN estimate\u001b[0m\u001b[0m[see pnw0 in basics.py, and/or arxiv:1310.1528v4]. This will be the frequency parameter used if strain is to be calculated.\n",
      "(\u001b[0;36mcalchlm\u001b[0m)>> \u001b[0;35mw22 = m*w22/2 = 0.041349\u001b[0m\u001b[0;33m (this is the lower frequency used for FFI method [arxiv:1006.1632v3])\u001b[0m\n",
      "(\u001b[0;36mgwylm.calchlm\u001b[0m)>> \u001b[0;33mThe user should note that there is no minus sign used in front of the double time integral for strain (i.e. Eq 4 of arxiv:1006.1632). This differs from Eq 3.4 of arxiv:0707.4654v3. The net effect is a rotation of the overall polarization of pi degrees. The user should also note that there is no minus sign applied to h_cross meaning that the user must be mindful to write h_plus-1j*h_cross when appropriate.\u001b[0m\n",
      "(\u001b[0;36mcalchlm\u001b[0m)>> \u001b[0;35mw21 = m*w22/2 = 0.020674\u001b[0m\u001b[0;33m (this is the lower frequency used for FFI method [arxiv:1006.1632v3])\u001b[0m\n",
      "(\u001b[0;36mgwylm.calchlm\u001b[0m)>> \u001b[0;33mThe user should note that there is no minus sign used in front of the double time integral for strain (i.e. Eq 4 of arxiv:1006.1632). This differs from Eq 3.4 of arxiv:0707.4654v3. The net effect is a rotation of the overall polarization of pi degrees. The user should also note that there is no minus sign applied to h_cross meaning that the user must be mindful to write h_plus-1j*h_cross when appropriate.\u001b[0m\n",
      "(\u001b[0;36mcalchlm\u001b[0m)>> \u001b[0;35mw33 = m*w22/2 = 0.062023\u001b[0m\u001b[0;33m (this is the lower frequency used for FFI method [arxiv:1006.1632v3])\u001b[0m\n",
      "(\u001b[0;36mgwylm.calchlm\u001b[0m)>> \u001b[0;33mThe user should note that there is no minus sign used in front of the double time integral for strain (i.e. Eq 4 of arxiv:1006.1632). This differs from Eq 3.4 of arxiv:0707.4654v3. The net effect is a rotation of the overall polarization of pi degrees. The user should also note that there is no minus sign applied to h_cross meaning that the user must be mindful to write h_plus-1j*h_cross when appropriate.\u001b[0m\n",
      "(\u001b[0;36mcalchlm\u001b[0m)>> \u001b[0;35mw32 = m*w22/2 = 0.041349\u001b[0m\u001b[0;33m (this is the lower frequency used for FFI method [arxiv:1006.1632v3])\u001b[0m\n",
      "(\u001b[0;36mgwylm.calchlm\u001b[0m)>> \u001b[0;33mThe user should note that there is no minus sign used in front of the double time integral for strain (i.e. Eq 4 of arxiv:1006.1632). This differs from Eq 3.4 of arxiv:0707.4654v3. The net effect is a rotation of the overall polarization of pi degrees. The user should also note that there is no minus sign applied to h_cross meaning that the user must be mindful to write h_plus-1j*h_cross when appropriate.\u001b[0m\n",
      "(\u001b[0;36mcalchlm\u001b[0m)>> \u001b[0;35mw44 = m*w22/2 = 0.082698\u001b[0m\u001b[0;33m (this is the lower frequency used for FFI method [arxiv:1006.1632v3])\u001b[0m\n",
      "(\u001b[0;36mgwylm.calchlm\u001b[0m)>> \u001b[0;33mThe user should note that there is no minus sign used in front of the double time integral for strain (i.e. Eq 4 of arxiv:1006.1632). This differs from Eq 3.4 of arxiv:0707.4654v3. The net effect is a rotation of the overall polarization of pi degrees. The user should also note that there is no minus sign applied to h_cross meaning that the user must be mindful to write h_plus-1j*h_cross when appropriate.\u001b[0m\n",
      "(\u001b[0;36mcalcflm\u001b[0m)>> \u001b[0;35mw0(w22) = 0.041349\u001b[0m\u001b[0;33m (this is the lower frequency used for FFI method [arxiv:1006.1632v3])\u001b[0m\n",
      "(\u001b[0;36mcalcflm\u001b[0m)>> \u001b[0;35mw0(w22) = 0.020674\u001b[0m\u001b[0;33m (this is the lower frequency used for FFI method [arxiv:1006.1632v3])\u001b[0m\n",
      "(\u001b[0;36mcalcflm\u001b[0m)>> \u001b[0;35mw0(w22) = 0.062023\u001b[0m\u001b[0;33m (this is the lower frequency used for FFI method [arxiv:1006.1632v3])\u001b[0m\n",
      "(\u001b[0;36mcalcflm\u001b[0m)>> \u001b[0;35mw0(w22) = 0.041349\u001b[0m\u001b[0;33m (this is the lower frequency used for FFI method [arxiv:1006.1632v3])\u001b[0m\n",
      "(\u001b[0;36mcalcflm\u001b[0m)>> \u001b[0;35mw0(w22) = 0.082698\u001b[0m\u001b[0;33m (this is the lower frequency used for FFI method [arxiv:1006.1632v3])\u001b[0m\n",
      "\u001b[1m(\u001b[0;33m__enforce_m_relative_phase_orientation__!\u001b[0m)\u001b[0m>> \u001b[0;33m[Verify stage] Re-orienting waveform phase\u001b[0m to be consistent with internal sign convention for Psi4, where sign(dPhi/dt)=1*sign(m)*sign(this.L[-1]). Note that the internal sign convention is defined in ... nrutils/core/__init__.py as \"M_RELATIVE_SIGN_CONVENTION\". This message has appeared becuase the waveform is determined to obey a sign convention: sign(dPhi/dt)=-1*sign(m)*sign(this.L[-1]). Note the appearance of the initial z angular momentum, this.L[-1].\n",
      "\n",
      "# -~-~-~-~-~-~-~-~-~-~-~-~-~-~-~-~-~-~-~-~-~-~-~-~-~-~-~-~-~-~-~ #\n",
      "\u001b[1m(\u001b[0;36mload_dynamics\u001b[0m)>> Trying to load source dynamics ...\u001b[0m\n",
      "# -~-~-~-~-~-~-~-~-~-~-~-~-~-~-~-~-~-~-~-~-~-~-~-~-~-~-~-~-~-~-~ #\n",
      "\n",
      "(\u001b[0;36mload_dynamics\u001b[0m)>> Calculating dynamics times by adjusting input waveform_times by extraction radius\n",
      "(\u001b[0;36mload_dynamics\u001b[0m)>> Retrieving method from handler for loading source dyanmics as this is specific to BAM, GT-MAYA, SXS, etc ...\n",
      "(\u001b[0;36mload_dynamics\u001b[0m)>> Loading/Learning dynamics ...\n",
      "\u001b[1m(\u001b[0;33mstraighten_wfarr!\u001b[0m)\u001b[0m>> \u001b[31mThe time series has been found to be non-monotonic. We will sort the data to enforce monotinicity.\u001b[0m\n",
      "\u001b[1m(\u001b[0;33mstraighten_wfarr!\u001b[0m)\u001b[0m>> \u001b[31mThe waveform time series is now monotonic.\u001b[0m\n",
      "\u001b[1m(\u001b[0;33mstraighten_wfarr!\u001b[0m)\u001b[0m>> Repeated time values were found in the array. Offending rows will be removed.\n",
      "\u001b[1m(\u001b[0;33mstraighten_wfarr!\u001b[0m)\u001b[0m>> \u001b[31mThe time series has been found to be non-monotonic. We will sort the data to enforce monotinicity.\u001b[0m\n",
      "\u001b[1m(\u001b[0;33mstraighten_wfarr!\u001b[0m)\u001b[0m>> \u001b[31mThe waveform time series is now monotonic.\u001b[0m\n",
      "\u001b[1m(\u001b[0;33mstraighten_wfarr!\u001b[0m)\u001b[0m>> Repeated time values were found in the array. Offending rows will be removed.\n",
      "\u001b[1m(\u001b[0;33mstraighten_wfarr!\u001b[0m)\u001b[0m>> \u001b[31mThe time series has been found to be non-monotonic. We will sort the data to enforce monotinicity.\u001b[0m\n",
      "\u001b[1m(\u001b[0;33mstraighten_wfarr!\u001b[0m)\u001b[0m>> \u001b[31mThe waveform time series is now monotonic.\u001b[0m\n",
      "\u001b[1m(\u001b[0;33mstraighten_wfarr!\u001b[0m)\u001b[0m>> Repeated time values were found in the array. Offending rows will be removed.\n",
      "\u001b[1m(\u001b[0;33mstraighten_wfarr!\u001b[0m)\u001b[0m>> \u001b[31mThe time series has been found to be non-monotonic. We will sort the data to enforce monotinicity.\u001b[0m\n",
      "\u001b[1m(\u001b[0;33mstraighten_wfarr!\u001b[0m)\u001b[0m>> \u001b[31mThe waveform time series is now monotonic.\u001b[0m\n",
      "\u001b[1m(\u001b[0;33mstraighten_wfarr!\u001b[0m)\u001b[0m>> Repeated time values were found in the array. Offending rows will be removed.\n",
      "(\u001b[0;36mload_dynamics\u001b[0m)>> Done.\n"
     ]
    }
   ],
   "source": [
    "# Load the realted NR waveform\n",
    "y = gwylm(a,lm=[ (2,2),(2,1),(3,3),(3,2),(4,4) ],verbose=True,dt=0.5,clean=True)"
   ]
  },
  {
   "cell_type": "markdown",
   "metadata": {},
   "source": [
    "## Compute model waveform for comparison"
   ]
  },
  {
   "cell_type": "code",
   "execution_count": 5,
   "metadata": {},
   "outputs": [],
   "source": [
    "lalparams = lal.CreateDict()\n",
    "def PolarizationsFD(approximant, modeList, threshold, m1, m2, s1, s2, delta_f, phiRef):\n",
    "      \n",
    "    ModeArray = lalsim.SimInspiralCreateModeArray()\n",
    "    for mode in modeList:\n",
    "        lalsim.SimInspiralModeArrayActivateMode(ModeArray, mode[0], mode[1])\n",
    "    lalsim.SimInspiralWaveformParamsInsertModeArray(lalparams, ModeArray)\n",
    "        \n",
    "    \n",
    "    lalsim.SimInspiralWaveformParamsInsertPhenomXHMThresholdMband(lalparams, threshold)\n",
    "   \n",
    "    \n",
    "    #\n",
    "    f_min       = 10.0\n",
    "    f_max       = 2048.0\n",
    "    Omega       = 0.\n",
    "    inclination = 1.3232\n",
    "    distance    = 100.*1.0e6*lal.PC_SI\n",
    "    \n",
    "    hp, hc = lalsim.SimInspiralChooseFDWaveform(m1=lal.MSUN_SI*m1,\n",
    "                                            m2=lal.MSUN_SI*m2, \n",
    "                                            S1x=s1[0], S1y=s1[1], S1z=s1[2],\n",
    "                                            S2x=s2[0], S2y=s2[1], S2z=s2[2],\n",
    "                                            distance=distance, \n",
    "                                            inclination=inclination, \n",
    "                                            LALpars=lalparams,\n",
    "                                            phiRef=phiRef, \n",
    "                                            f_ref=f_min,\n",
    "                                            deltaF=delta_f,\n",
    "                                            f_min=f_min,\n",
    "                                            f_max=f_max,\n",
    "                                            longAscNodes=Omega,\n",
    "                                            eccentricity=0.0,\n",
    "                                            meanPerAno=0.0,\n",
    "                                            approximant=approximant) \n",
    "        \n",
    "    freqs = np.arange(len(hp.data.data)) * delta_f\n",
    "    \n",
    "    return hp, hc, freqs"
   ]
  },
  {
   "cell_type": "code",
   "execution_count": 35,
   "metadata": {},
   "outputs": [],
   "source": [
    "\n",
    "modeList = [ [3,3] ]\n",
    "threshold = 0\n",
    "m1 = 20.0\n",
    "m2 = 60.0\n",
    "s1 = [0,0,0]\n",
    "s2 = [0,0,0]\n",
    "delta_f = 0.125\n",
    "phiRef = 3.4332\n",
    "\n",
    "hp, hc, f = PolarizationsFD(lalsim.IMRPhenomXHM, modeList, threshold, m1, m2, s1, s2, delta_f, phiRef)\n",
    "\n",
    "h = hp.data.data + 1j*hc.data.data"
   ]
  },
  {
   "cell_type": "code",
   "execution_count": 36,
   "metadata": {},
   "outputs": [
    {
     "data": {
      "text/plain": [
       "(10.0, 2048.0)"
      ]
     },
     "execution_count": 36,
     "metadata": {},
     "output_type": "execute_result"
    },
    {
     "data": {
      "image/png": "[encoded data removed]",
      "text/plain": [
       "<Figure size 432x288 with 1 Axes>"
      ]
     },
     "metadata": {
      "needs_background": "light"
     },
     "output_type": "display_data"
    }
   ],
   "source": [
    "plot( f, abs(h) )\n",
    "xscale('log')\n",
    "yscale('log')\n",
    "xlim( f[find(abs(h)>0)[0]],max(f) )"
   ]
  },
  {
   "cell_type": "code",
   "execution_count": null,
   "metadata": {},
   "outputs": [],
   "source": []
  }
 ],
 "metadata": {
  "kernelspec": {
   "display_name": "hack-phenomx",
   "language": "python",
   "name": "hack-phenomx"
  },
  "language_info": {
   "codemirror_mode": {
    "name": "ipython",
    "version": 2
   },
   "file_extension": ".py",
   "mimetype": "text/x-python",
   "name": "python",
   "nbconvert_exporter": "python",
   "pygments_lexer": "ipython2",
   "version": "2.7.18"
  }
 },
 "nbformat": 4,
 "nbformat_minor": 4
}
